{
 "cells": [
  {
   "cell_type": "markdown",
   "metadata": {},
   "source": [
    "# FRQ 1\n",
    ">  Relationship of FRQ 1 to Project Based learning.\n",
    "- title: FRQ1 - Methods and Control Structures\n",
    "- toc: true\n",
    "- badges: false\n",
    "- image: /images/frqs.png\n",
    "- type: ap\n",
    "- week: 13\n",
    "- comments: true"
   ]
  },
  {
   "cell_type": "markdown",
   "metadata": {},
   "source": [
    "## Methods and Control Structures Background\n",
    "> All Web Endpoints are typically backed with Methods and Control Structures.  First, there are Methods that manage @RestController endpoint.  Additionally, there are the Methods and Control Structures that perform endpoint logic, like fetch data through the JPA.  In the 2019 FRQ1 they seem to limit OOP usage in favor of static methods.  The implementation below shows these methods as Class methods, not as methods of an object.\n",
    "- These methods could be endpoints of an API.\n",
    "- The APCalendar class could be extended to provide interesting facts about Year and Date in a PBL application"
   ]
  },
  {
   "cell_type": "code",
   "execution_count": null,
   "metadata": {
    "vscode": {
     "languageId": "java"
    }
   },
   "outputs": [],
   "source": [
    "// Prototype Implementation\n",
    "\n",
    "public class APCalendar {\n",
    "\n",
    "    /** Returns true if year is a leap year and false otherwise.\n",
    "     * isLeapYear(2019) returns False\n",
    "     * isLeapYear(2016) returns True\n",
    "     */          \n",
    "    private static boolean isLeapYear(int year) {\n",
    "        // implementation not shown\n",
    "\n",
    "        return false;\n",
    "        }\n",
    "        \n",
    "    /** Returns the value representing the day of the week \n",
    "     * 0 denotes Sunday, \n",
    "     * 1 denotes Monday, ..., \n",
    "     * 6 denotes Saturday. \n",
    "     * firstDayOfYear(2019) returns 2 for Tuesday.\n",
    "    */\n",
    "    private static int firstDayOfYear(int year) {\n",
    "        // implementation not shown\n",
    "\n",
    "        return 0;\n",
    "        }\n",
    "\n",
    "\n",
    "    /** Returns n, where month, day, and year specify the nth day of the year.\n",
    "     * This method accounts for whether year is a leap year. \n",
    "     * dayOfYear(1, 1, 2019) return 1\n",
    "     * dayOfYear(3, 1, 2017) returns 60, since 2017 is not a leap year\n",
    "     * dayOfYear(3, 1, 2016) returns 61, since 2016 is a leap year. \n",
    "    */ \n",
    "    private static int dayOfYear(int month, int day, int year) {\n",
    "        // implementation not shown\n",
    "\n",
    "        return 1;\n",
    "        }\n",
    "\n",
    "    /** Returns the number of leap years between year1 and year2, inclusive.\n",
    "     * Precondition: 0 <= year1 <= year2\n",
    "    */ \n",
    "    public static int numberOfLeapYears(int year1, int year2) {\n",
    "         // to be implemented in part (a)\n",
    "\n",
    "        return 0;\n",
    "        }\n",
    "\n",
    "    /** Returns the value representing the day of the week for the given date\n",
    "     * Precondition: The date represented by month, day, year is a valid date.\n",
    "    */\n",
    "    public static int dayOfWeek(int month, int day, int year) { \n",
    "        // to be implemented in part (b)\n",
    "        return 0;\n",
    "        }\n",
    "\n",
    "    /** Tester method */\n",
    "    public static void main(String[] args) {\n",
    "        // Private access modifiers\n",
    "        System.out.println(\"isLeapYear: \" + APCalendar.isLeapYear(2022));\n",
    "        System.out.println(\"firstDayOfYear: \" + APCalendar.firstDayOfYear(2022));\n",
    "        System.out.println(\"dayOfYear: \" + APCalendar.dayOfYear(1, 1, 2022));\n",
    "\n",
    "        // Public access modifiers\n",
    "        System.out.println(\"numberOfLeapYears: \" + APCalendar.numberOfLeapYears(2000, 2022));\n",
    "        System.out.println(\"dayOfWeek: \" + APCalendar.dayOfWeek(1, 1, 2022));\n",
    "    }\n",
    "\n",
    "}"
   ]
  },
  {
   "cell_type": "markdown",
   "metadata": {},
   "source": [
    "## Hacks\n",
    "> Layout @RESTController to work with one method from the Class above.\n",
    "- Perform implementation in Spring project\n",
    "- Test APIs with Postman and Debugger\n",
    "- Enhance APCalendar to provide many interesting facts\n",
    "\n",
    "> REST Serializing and Deserializing Year objects is necessary.\n",
    "- [REST documentation](https://spring.io/guides/tutorials/rest/)\n",
    "- [Read ObjectMapper](https://www.tutorialspoint.com/jackson/jackson_objectmapper.htm) and [Write ObjectMapper](https://www.tutorialspoint.com/jackson/jackson_object_serialization.htm). ObjectMapper provides functionality for reading and writing JSON, either to and from basic POJOs (Plain Old Java Objects), or to and from a general-purpose JSON Tree Model (JsonNode).  However, ResponseEntity or toString may work as well."
   ]
  },
  {
   "cell_type": "code",
   "execution_count": null,
   "metadata": {
    "vscode": {
     "languageId": "java"
    }
   },
   "outputs": [],
   "source": [
    "package com.nighthawk.spring_portfolio.mvc.calendar;\n",
    "\n",
    "import org.springframework.http.HttpStatus;\n",
    "import org.springframework.http.ResponseEntity;\n",
    "import org.springframework.web.bind.annotation.GetMapping;\n",
    "import org.springframework.web.bind.annotation.PathVariable;\n",
    "import org.springframework.web.bind.annotation.RequestMapping;\n",
    "import org.springframework.web.bind.annotation.RestController;\n",
    "\n",
    "// Pseudo Code / Implementation Prototypes \n",
    "\n",
    "@RestController\n",
    "@RequestMapping(\"/api/calendar\")\n",
    "public class CalendarApiController {\n",
    "    /** GET isLeapYear endpoint\n",
    "     */\n",
    "    @GetMapping(\"/isLeapYear/{year}\")\n",
    "    public ResponseEntity<Year> getIsLeapYear(@PathVariable int year) {\n",
    "      // serializing POJO object (ie isLeapYear) to JSON not working\n",
    "      Year year_obj = new Year();\n",
    "\n",
    "      year_obj.setYear(year);\n",
    "\n",
    "      return new ResponseEntity<>(year_obj, HttpStatus.OK);  // response not serializing POJO\n",
    "    }\n",
    "\n",
    "    // add other methods\n",
    "}"
   ]
  },
  {
   "cell_type": "code",
   "execution_count": null,
   "metadata": {
    "vscode": {
     "languageId": "java"
    }
   },
   "outputs": [],
   "source": [
    "package com.nighthawk.spring_portfolio.mvc.calendar;\n",
    "\n",
    "// simple POJO for serializing JSON, this could be moved into an entity\n",
    "class Year {\n",
    "    private int year;\n",
    "    private boolean isLeapYear;\n",
    " \n",
    "    public Year() {} // zero argument constructor\n",
    " \n",
    "    /* year getter/setters */\n",
    "    public int getYear() {\n",
    "       return year;\n",
    "     }\n",
    "    public void setYear(int year) {\n",
    "        this.year = year;\n",
    "        this.setIsLeapYear(year);\n",
    "     }\n",
    " \n",
    "    /* isLeapYear getter/setters */\n",
    "    public boolean getIsLeapYear(int year) {\n",
    "       return APCalendar.isLeapYear(year);\n",
    "     }\n",
    "    private void setIsLeapYear(int year) {  // this is private to avoid tampering\n",
    "        this.isLeapYear = APCalendar.isLeapYear(year);\n",
    "     }\n",
    " \n",
    "    /* toString print */\n",
    "    public String toString(){\n",
    "       return \"Year [ year: \"+this.year+\", isLeapYear: \"+ this.isLeapYear+ \" ]\";\n",
    "     }\t\n",
    "\n",
    "     public static void main(String[] args) {\n",
    "        Year year = new Year();\n",
    "        year.setYear(2022);\n",
    "        System.out.println(year);\n",
    "     }\n",
    "}"
   ]
  }
 ],
 "metadata": {
  "kernelspec": {
   "display_name": "Java",
   "language": "java",
   "name": "java"
  },
  "language_info": {
   "codemirror_mode": "java",
   "file_extension": ".jshell",
   "mimetype": "text/x-java-source",
   "name": "Java",
   "pygments_lexer": "java",
   "version": "17.0.3+7"
  },
  "orig_nbformat": 4,
  "vscode": {
   "interpreter": {
    "hash": "aee8b7b246df8f9039afb4144a1f6fd8d2ca17a180786b69acc140d282b71a49"
   }
  }
 },
 "nbformat": 4,
 "nbformat_minor": 2
}
