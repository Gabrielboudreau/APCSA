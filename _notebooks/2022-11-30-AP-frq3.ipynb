{
 "cells": [
  {
   "cell_type": "markdown",
   "metadata": {},
   "source": [
    "# FRQ 3\n",
    "> Relationship of FRQ 3 to a Project Based learning exercise.\n",
    "- title: FRQ3 - Array/ArrayList\n",
    "- toc: true\n",
    "- badges: false\n",
    "- image: /images/frqs.png\n",
    "- categories: [1.B]\n",
    "- tags: [api]\n",
    "- type: ap\n",
    "- week: 13"
   ]
  },
  {
   "cell_type": "markdown",
   "metadata": {},
   "source": [
    "## Calculator\n",
    "> Helping a computer interpret a Mathematical expression is a derivation of FRQ3 that involves using ArrayLists, Stack, and Map.  These are key data structures that exist in Java.  To obtain a deeper understanding of ArrayList, or its List interface, it is to use it in many applications."
   ]
  },
  {
   "cell_type": "markdown",
   "metadata": {},
   "source": [
    "### Operators and Precedence\n",
    "> To support mathematical expressions you need to define Unique List of operators that are supported by your Calculator."
   ]
  },
  {
   "cell_type": "code",
   "execution_count": null,
   "metadata": {},
   "outputs": [],
   "source": [
    "// Helper definition to define operators, lookup in MAP are fast and easy O(1) versus ArrayList O(n)\n",
    "private final Map<String, Integer> OPERATORS = new HashMap<>();\n",
    "{\n",
    "    // Map<\"token\", precedence>\n",
    "    OPERATORS.put(\"*\", 3);\n",
    "    OPERATORS.put(\"/\", 3);\n",
    "    OPERATORS.put(\"%\", 3);\n",
    "    OPERATORS.put(\"+\", 4);\n",
    "    OPERATORS.put(\"-\", 4);\n",
    "}"
   ]
  },
  {
   "cell_type": "markdown",
   "metadata": {},
   "source": [
    "### Organizing an Expression\n",
    "> To support terms in mathematical expression you need to define symbols (other than operators) that help delineate the elements of an expression.  Ultimately, the String expression will be broken in distinct elements in a List, we will call each element a Token."
   ]
  },
  {
   "cell_type": "code",
   "execution_count": null,
   "metadata": {},
   "outputs": [],
   "source": [
    "\n",
    "// Helper definition for supported separators\n",
    "private final Map<String, Integer> SEPARATORS = new HashMap<>();\n",
    "{\n",
    "    // Map<\"separator\", not_used>\n",
    "    SEPARATORS.put(\" \", 0);\n",
    "    SEPARATORS.put(\"(\", 0);\n",
    "    SEPARATORS.put(\")\", 0);\n",
    "}"
   ]
  },
  {
   "cell_type": "markdown",
   "metadata": {},
   "source": [
    "### Expression Evaluation\n",
    "To detect operators and separators in the String expression, requires test functions to detect the tokens. These methods will assist in establishing Control Flow in evaluating the expression."
   ]
  },
  {
   "cell_type": "code",
   "execution_count": null,
   "metadata": {},
   "outputs": [],
   "source": [
    "// Test if token is an operator\n",
    "private boolean isOperator(String token) {\n",
    "    // find the token in the hash map\n",
    "    return OPERATORS.containsKey(token);\n",
    "}\n",
    "\n",
    "// Test if token is an separator\n",
    "private boolean isSeparator(String token) {\n",
    "    // find the token in the hash map\n",
    "    return SEPARATORS.containsKey(token);\n",
    "}\n",
    "\n",
    "// Compare precedence of operators.\n",
    "private Boolean isPrecedent(String token1, String token2) {\n",
    "    // token 1 is precedent if it is greater than token 2\n",
    "    return (OPERATORS.get(token1) - OPERATORS.get(token2) >= 0) ;\n",
    "}"
   ]
  },
  {
   "cell_type": "markdown",
   "metadata": {},
   "source": [
    "## Calculator Theory\n",
    "> Mathematical expression written by humans are in the form of a String Expression.  Since this expression is simply a string to the computer...  an algorithm is required to reform the equation for the computer to ensure it interprets expression according to the rules of mathematics. \n",
    "- In mathematics, an expression or mathematical expression is a finite combination of symbols that is well-formed (ie \"3 + 4\").\n",
    "- In computers, a string expression is hard to calculate.  Thus, the expression needs to be restructured according to rules of Mathematics that a computer can calculate.  For instance, the order of precedence rules, aka PEMDAS (parenthesis, exponents, multiplication, division, addition, subtraction) need to be factored into order of computation. To support these rules, in computer math we often convert a String expression into Reverse Polish Notation (RPN).  This converts a simple string like \"3 + 4\" to become [\"3\", \"4\", \"+\"]) using the Shunting-yard algorithm.\n",
    "\n",
    "> After thinking about basic computing requirements of an expression and need for an RPN algorithm, step back and think of flow of control to go from defining terms/tokens, to RPN, and ultimately calculate the final result.  This flow of control is illustrated in the Calculator instance variables and constructor as shown.  Also, listed is a toString method to output results."
   ]
  },
  {
   "cell_type": "code",
   "execution_count": null,
   "metadata": {},
   "outputs": [],
   "source": [
    "// Key instance variables\n",
    "private final String expression;\n",
    "private ArrayList<String> tokens;\n",
    "private ArrayList<String> reverse_polish;\n",
    "private Double result;\n",
    "\n",
    "\n",
    "// Create a 1 argument constructor providing a mathematical expression\n",
    "    public Calculator(String expression) {\n",
    "        // original input\n",
    "        this.expression = expression;\n",
    "\n",
    "        // parse expression into terms\n",
    "        this.termTokenizer();\n",
    "\n",
    "        // place terms into reverse polish notation\n",
    "        this.tokensToReversePolishNotation();\n",
    "\n",
    "        // calculate reverse polish notation\n",
    "        this.rpnToResult();\n",
    "    }\n",
    "\n",
    "    // Print the expression, terms, and result\n",
    "    public String toString() {\n",
    "        return (\"Original expression: \" + this.expression + \"\\n\" +\n",
    "                \"Tokenized expression: \" + this.tokens.toString() + \"\\n\" +\n",
    "                \"Reverse Polish Notation: \" +this.reverse_polish.toString() + \"\\n\" +\n",
    "                \"Final result: \" + String.format(\"%.2f\", this.result));\n",
    "    }"
   ]
  },
  {
   "cell_type": "markdown",
   "metadata": {},
   "source": [
    "### Term Tokenizer\n",
    "> A Term tokenizer is used to change the String expression into a series of tokens that constitute distinct elements of a Mathematical expression.  The result is retained in the ArrayList \"tokens\" instance variable."
   ]
  },
  {
   "cell_type": "code",
   "execution_count": null,
   "metadata": {},
   "outputs": [],
   "source": [
    "// Term Tokenizer takes original expression and converts it to ArrayList of tokens\n",
    "private void termTokenizer() {\n",
    "    // contains final list of tokens\n",
    "    this.tokens = new ArrayList<>();\n",
    "\n",
    "    int start = 0;  // term split starting index\n",
    "    StringBuilder multiCharTerm = new StringBuilder();    // term holder\n",
    "    for (int i = 0; i < this.expression.length(); i++) {\n",
    "        Character c = this.expression.charAt(i);\n",
    "        if ( isOperator(c.toString() ) || isSeperator(c.toString())  ) {\n",
    "            // 1st check for working term and add if it exists\n",
    "            if (multiCharTerm.length() > 0) {\n",
    "                tokens.add(this.expression.substring(start, i));\n",
    "            }\n",
    "            // Add operator or parenthesis term to list\n",
    "            if (c != ' ') {\n",
    "                tokens.add(c.toString());\n",
    "            }\n",
    "            // Get ready for next term\n",
    "            start = i + 1;\n",
    "            multiCharTerm = new StringBuilder();\n",
    "        } else {\n",
    "            // multi character terms: numbers, functions, perhaps non-supported elements\n",
    "            // Add next character to working term\n",
    "            multiCharTerm.append(c);\n",
    "        }\n",
    "\n",
    "    }\n",
    "    // Add last term\n",
    "    if (multiCharTerm.length() > 0) {\n",
    "        tokens.add(this.expression.substring(start));\n",
    "    }\n",
    "}"
   ]
  },
  {
   "cell_type": "markdown",
   "metadata": {},
   "source": [
    "### Tokens to RPN\n",
    "> Before calculation the tokens need to be turned into RPN.  This results in the operator being followed by its operands."
   ]
  },
  {
   "cell_type": "code",
   "execution_count": null,
   "metadata": {},
   "outputs": [],
   "source": [
    "// Takes tokens and converts to Reverse Polish Notation (RPN).\n",
    "private void tokensToReversePolishNotation () {\n",
    "    // contains final list of tokens in RPN\n",
    "    List<String> reverse_polish = new ArrayList<>();\n",
    "\n",
    "    // stack is used to reorder for appropriate grouping and precedence\n",
    "    Stack tokenStack = new Stack();\n",
    "    for (String token : tokens) {\n",
    "        switch (token) {\n",
    "            // If left bracket push token on to stack\n",
    "            case \"(\":\n",
    "                tokenStack.push(token);\n",
    "                break;\n",
    "            case \")\":\n",
    "                while (tokenStack.peek() != null && !tokenStack.peek().equals(\"(\"))\n",
    "                {\n",
    "                    reverse_polish.add( (String)tokenStack.pop() );\n",
    "                }\n",
    "                tokenStack.pop();\n",
    "                break;\n",
    "            case \"+\":\n",
    "            case \"-\":\n",
    "            case \"*\":\n",
    "            case \"/\":\n",
    "            case \"%\":\n",
    "                // While stack\n",
    "                // not empty AND stack top element\n",
    "                // and is an operator\n",
    "                while (tokenStack.peek() != null && isOperator((String) tokenStack.peek()))\n",
    "                {\n",
    "                    if ( isPrecedent(token, (String) tokenStack.peek() )) {\n",
    "                        reverse_polish.add((String)tokenStack.pop());\n",
    "                        continue;\n",
    "                    }\n",
    "                    break;\n",
    "                }\n",
    "                // Push the new operator on the stack\n",
    "                tokenStack.push(token);\n",
    "                break;\n",
    "            default:    // Default should be a number, there could be test here\n",
    "                this.reverse_polish.add(token);\n",
    "        }\n",
    "    }\n",
    "    // Empty remaining tokens\n",
    "    while (tokenStack.peek() != null) {\n",
    "        reverse_polish.add((String)tokenStack.pop());\n",
    "    }\n",
    "\n",
    "}"
   ]
  },
  {
   "cell_type": "markdown",
   "metadata": {},
   "source": [
    "### RPN to Result\n",
    "> Below is outline/pseudo code to produce a result."
   ]
  },
  {
   "cell_type": "code",
   "execution_count": null,
   "metadata": {},
   "outputs": [],
   "source": [
    "// Takes RPN and produces a final result\n",
    "private void rpnToResult()\n",
    "{\n",
    "    // Stack used to hold calculation while process RPN\n",
    "    Stack calculation = new Stack();\n",
    "\n",
    "    // for loop to process RPN\n",
    "    {\n",
    "        // If the token is a number\n",
    "        {\n",
    "            // Push number to stack\n",
    "        }\n",
    "        // else\n",
    "        {\n",
    "            // Pop the two top entries\n",
    "\n",
    "            // Based off of Token operator calculate result\n",
    "\n",
    "            // Push result back onto the stack\n",
    "        }\n",
    "    }\n",
    "    // Pop final result and set as final result for expression\n",
    "}"
   ]
  },
  {
   "cell_type": "markdown",
   "metadata": {},
   "source": [
    "## Driver / Tester\n",
    "> A calculator should always have a driver for testing.  In a driver, you will need to consider multiple conditions, for instance changes with precedence..."
   ]
  },
  {
   "cell_type": "code",
   "execution_count": null,
   "metadata": {},
   "outputs": [],
   "source": [
    "Calculator simpleMath = new Calculator(\"100 + 200  * 3\");\n",
    "System.out.println(\"Simple Math\\n\" + simpleMath);\n",
    "\n",
    "Calculator parenthesisMath = new Calculator(\"(100 + 200)  * 3\");\n",
    "System.out.println(\"Parenthesis Math\\n\" + parenthesisMath);\n",
    "\n",
    "Calculator allMath = new Calculator(\"200 % 300 + 5 + 300 / 200 + 1 * 100\");\n",
    "System.out.println(\"All Math\\n\" + allMath);\n",
    "\n",
    "Calculator allMath2 = new Calculator(\"200 % (300 + 5 + 300) / 200 + 1 * 100\");\n",
    "System.out.println(\"All Math2\\n\" + allMath2);"
   ]
  },
  {
   "cell_type": "markdown",
   "metadata": {},
   "source": [
    "### Output Examples\n",
    "> Finally, here is sample output for the calculator\n",
    "\n",
    "```text\n",
    "Simple Math\n",
    "Original expression: 100 + 200  * 3\n",
    "Tokenized expression: [100, +, 200, *, 3]\n",
    "Reverse Polish Notation: [100, 200, 3, *, +]\n",
    "Final result: 700.00\n",
    "\n",
    "Parenthesis Math\n",
    "Original expression: (100 + 200)  * 3\n",
    "Tokenized expression: [(, 100, +, 200, ), *, 3]\n",
    "Reverse Polish Notation: [100, 200, +, 3, *]\n",
    "Final result: 900.00\n",
    "\n",
    "Fraction Math\n",
    "Original expression: 100.2 - 99.3\n",
    "Tokenized expression: [100.2, -, 99.3]\n",
    "Reverse Polish Notation: [100.2, 99.3, -]\n",
    "Final result: 0.90\n",
    "\n",
    "Modulo Math\n",
    "Original expression: 300 % 200\n",
    "Tokenized expression: [300, %, 200]\n",
    "Reverse Polish Notation: [300, 200, %]\n",
    "Final result: 100.00\n",
    "\n",
    "Division Math\n",
    "Original expression: 300/200\n",
    "Tokenized expression: [300, /, 200]\n",
    "Reverse Polish Notation: [300, 200, /]\n",
    "Final result: 1.50\n",
    "\n",
    "Multiplication Math\n",
    "Original expression: 300 * 200\n",
    "Tokenized expression: [300, *, 200]\n",
    "Reverse Polish Notation: [300, 200, *]\n",
    "Final result: 60000.00\n",
    "\n",
    "All Math\n",
    "Original expression: 200 % 300 + 5 + 300 / 200 + 1 * 100\n",
    "Tokenized expression: [200, %, 300, +, 5, +, 300, /, 200, +, 1, *, 100]\n",
    "Reverse Polish Notation: [200, 300, %, 5, +, 300, 200, /, +, 1, 100, *, +]\n",
    "Final result: 306.50\n",
    "\n",
    "All Math2\n",
    "Original expression: 200 % (300 + 5 + 300) / 200 + 1 * 100\n",
    "Tokenized expression: [200, %, (, 300, +, 5, +, 300, ), /, 200, +, 1, *, 100]\n",
    "Reverse Polish Notation: [200, 300, 5, +, 300, +, %, 200, /, 1, 100, *, +]\n",
    "Final result: 101.00\n",
    "\n",
    "All Math3\n",
    "Original expression: 200%(300+5+300)/200+1*100\n",
    "Tokenized expression: [200, %, (, 300, +, 5, +, 300, ), /, 200, +, 1, *, 100]\n",
    "Reverse Polish Notation: [200, 300, 5, +, 300, +, %, 200, /, 1, 100, *, +]\n",
    "Final result: 101.00\n",
    "```"
   ]
  },
  {
   "cell_type": "markdown",
   "metadata": {},
   "source": [
    "## Hacks\n",
    "> Build a calculator to process expressions and ultimately change RPN to a calculation.\n",
    "1. Finish Calculator\n",
    "2. Build in Power of operator ^: 2 ^ 1 = 2, 2 ^ 2 = 4, 2 ^ 3 = 8\n",
    "\n",
    "> Beyond short term, including PBL ideas.\n",
    "3. Build variable assignment and evaluation into your expressions (a = 2; a + 1).\n",
    "4. Try adding single argument function SQRT.\n",
    "5. Consider design to capture expression in FE and pass expression to BE.  Consider how you might maintain variables on FE.  "
   ]
  }
 ],
 "metadata": {
  "kernelspec": {
   "display_name": "Java",
   "language": "java",
   "name": "java"
  },
  "language_info": {
   "codemirror_mode": "java",
   "file_extension": ".jshell",
   "mimetype": "text/x-java-source",
   "name": "java",
   "pygments_lexer": "java",
   "version": "17.0.3+7"
  },
  "orig_nbformat": 4,
  "vscode": {
   "interpreter": {
    "hash": "aee8b7b246df8f9039afb4144a1f6fd8d2ca17a180786b69acc140d282b71a49"
   }
  }
 },
 "nbformat": 4,
 "nbformat_minor": 2
}
