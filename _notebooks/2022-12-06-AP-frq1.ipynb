{
 "cells": [
  {
   "cell_type": "markdown",
   "metadata": {},
   "source": [
    "# FRQ 1\n",
    ">  Relationship of FRQ 1 to Project Based learning.\n",
    "- title: FRQ1 - Methods and Control Structures\n",
    "- toc: true\n",
    "- badges: false\n",
    "- image: /images/apcsa_units.png\n",
    "- type: ap\n",
    "- week: 15\n",
    "- comments: true"
   ]
  },
  {
   "cell_type": "code",
   "execution_count": null,
   "metadata": {},
   "outputs": [],
   "source": [
    "## TBD"
   ]
  }
 ],
 "metadata": {
  "kernelspec": {
   "display_name": "Java",
   "language": "java",
   "name": "java"
  },
  "language_info": {
   "name": "java",
   "version": "3.10.6"
  },
  "orig_nbformat": 4,
  "vscode": {
   "interpreter": {
    "hash": "aee8b7b246df8f9039afb4144a1f6fd8d2ca17a180786b69acc140d282b71a49"
   }
  }
 },
 "nbformat": 4,
 "nbformat_minor": 2
}
