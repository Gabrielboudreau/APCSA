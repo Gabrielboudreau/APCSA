{
 "cells": [
  {
   "cell_type": "markdown",
   "metadata": {},
   "source": [
    "# FRQ 1\n",
    ">  Relationship of FRQ 1 to Project Based learning.\n",
    "- title: FRQ1 - Methods and Control Structures\n",
    "- toc: true\n",
    "- badges: false\n",
    "- image: /images/frqs.png\n",
    "- type: ap\n",
    "- week: 15\n",
    "- comments: true"
   ]
  },
  {
   "cell_type": "markdown",
   "metadata": {},
   "source": [
    "## Methods and Control Structures Background\n",
    "> All Web Endpoints are typically backed with Methods and Control Structures.  First, there are Methods that manage @RestController endpoint.  Additionally, there are the Methods and Control Structures that perform endpoint logic, like fetch data through the JPA.  In the 2019 FRQ1 they seem to limit OOP usage in favor of static methods.  The implementation below shows these methods as Class methods, not as methods of an object.\n",
    "- These methods could be endpoints of an API.\n",
    "- API would need to @RequestParam\n",
    "- API would return a @ResponseEntity"
   ]
  },
  {
   "cell_type": "code",
   "execution_count": null,
   "metadata": {
    "vscode": {
     "languageId": "java"
    }
   },
   "outputs": [],
   "source": [
    "// Pseudo Code / Implementation Prototypes\n",
    "\n",
    "public class APCalendar {\n",
    "\n",
    "    /** Returns true if year is a leap year and false otherwise. \n",
    "     */ \n",
    "    private static boolean isLeapYear(int year) {\n",
    "        /* \n",
    "            implementation not shown\n",
    "\n",
    "            isLeapYear(2019) returns False\n",
    "            isLeapYear(2016) returns True\n",
    "        */\n",
    "        }\n",
    "        \n",
    "    /** Returns the value representing the day of the week \n",
    "    */\n",
    "    private static int firstDayOfYear(int year) {\n",
    "        /*  \n",
    "            implementation not shown\n",
    "\n",
    "            0 denotes Sunday, \n",
    "            1 denotes Monday, ..., \n",
    "            6 denotes Saturday. \n",
    "            firstDayOfYear(2019) returns 2 for Tuesday.\n",
    "        */ \n",
    "        }\n",
    "\n",
    "\n",
    "    /** Returns n, where month, day, and year specify the nth day of the year. \n",
    "    */ \n",
    "    private static int dayOfYear(int month, int day, int year) {\n",
    "        /*\n",
    "            implementation not shown\n",
    "\n",
    "            This method accounts for whether year is a leap year. \n",
    "            dayOfYear(1, 1, 2019) return 1\n",
    "            dayOfYear(3, 1, 2017) returns 60, since 2017 is not a leap year\n",
    "            dayOfYear(3, 1, 2016) returns 61, since 2016 is a leap year. \n",
    "        */\n",
    "        }\n",
    "\n",
    "    /** Returns the number of leap years between year1 and year2, inclusive.\n",
    "     * Precondition: 0 <= year1 <= year2\n",
    "    */ \n",
    "    public static int numberOfLeapYears(int year1, int year2) {\n",
    "         /* to be implemented in part (a) */ \n",
    "        }\n",
    "\n",
    "    /** Returns the value representing the day of the week for the given date\n",
    "     * Precondition: The date represented by month, day, year is a valid date.\n",
    "    */\n",
    "    public static int dayOfWeek(int month, int day, int year) { \n",
    "        /* to be implemented in part (b) */ \n",
    "        }\n",
    "\n",
    "}"
   ]
  },
  {
   "cell_type": "markdown",
   "metadata": {},
   "source": [
    "## Hacks\n",
    "> Layout @RESTController to work with the Class as shown.  However, a study on how to read and write JSON is necessary.\n",
    "- Perform implementation in Spring project\n",
    "- Test APIs with Debugger and Postman \n",
    "\n",
    "> Serializing and Deserializing Year object may be necessary.\n",
    "- [Read ObjectMapper](https://www.tutorialspoint.com/jackson/jackson_objectmapper.htm) and [Write ObjectMapper](https://www.tutorialspoint.com/jackson/jackson_object_serialization.htm). ObjectMapper provides functionality for reading and writing JSON, either to and from basic POJOs (Plain Old Java Objects), or to and from a general-purpose JSON Tree Model (JsonNode).  However, ResponseEntity or toString may work as well."
   ]
  },
  {
   "cell_type": "code",
   "execution_count": null,
   "metadata": {
    "vscode": {
     "languageId": "java"
    }
   },
   "outputs": [],
   "source": [
    "// Pseudo Code / Implementation Prototypes\n",
    "\n",
    "@RestController\n",
    "@RequestMapping(\"/api\")\n",
    "public class CalendarApiController {\n",
    "    \n",
    "    /*\n",
    "    GET isLeapYear endpoint\n",
    "     */\n",
    "    @GetMapping(\"/isLeapYear/{year}\")\n",
    "    public ResponseEntity<Year> getIsLeapYear(@PathVariable int year) {\n",
    "      // serializing leapYear to JSON not verified\n",
    "      Year year_obj = new Year();\n",
    "\n",
    "      boolean isLeapYear = APCalendar.isLeapYear(year);  // method not implemented\n",
    "      year_obj.setYear(year);\n",
    "      year_obj.setIsLeapYear(APCalendar.isLeapYear(year));\n",
    "\n",
    "      return new ResponseEntity<>(year_obj, HttpStatus.OK);  // response not tested\n",
    "    }\n",
    "\n",
    "    // add other methods\n",
    "}\n",
    "\n",
    "// simple POJO for serializing JSON, this could be moved into an entity\n",
    "class Year {\n",
    "   private int year;\n",
    "   private boolean isLeapYear;\n",
    "\n",
    "   public Year {} // zero arg constructor\n",
    "\n",
    "   /* year getter/setters */\n",
    "   public int getYear() {\n",
    "      return year;\n",
    "    }\n",
    "   public void setYear(int year) {\n",
    "       this.year = year;\n",
    "    }\n",
    "\n",
    "   /* isLeapYeaar getter/setters */\n",
    "   public int getIsLeapYear() {\n",
    "      return isLeapYear;\n",
    "    }\n",
    "   public void SetIsLeapYear(boolean isLeapYear) {\n",
    "      this.isLeapYear = isLeapYear;\n",
    "    }\n",
    "\n",
    "   /* toString print */\n",
    "   public String toString(){\n",
    "      return \"Year [ year: \"+this.year+\", isLeapYear: \"+ this.isLeapYear+ \" ]\";\n",
    "    }\t\n",
    "}"
   ]
  }
 ],
 "metadata": {
  "kernelspec": {
   "display_name": "Java",
   "language": "java",
   "name": "java"
  },
  "language_info": {
   "codemirror_mode": "java",
   "file_extension": ".jshell",
   "mimetype": "text/x-java-source",
   "name": "Java",
   "pygments_lexer": "java",
   "version": "17.0.3+7"
  },
  "orig_nbformat": 4,
  "vscode": {
   "interpreter": {
    "hash": "aee8b7b246df8f9039afb4144a1f6fd8d2ca17a180786b69acc140d282b71a49"
   }
  }
 },
 "nbformat": 4,
 "nbformat_minor": 2
}
