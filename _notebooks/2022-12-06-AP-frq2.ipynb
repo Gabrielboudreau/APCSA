{
 "cells": [
  {
   "cell_type": "markdown",
   "metadata": {},
   "source": [
    "# FRQ 2\n",
    ">  Student Led Instruction. \n",
    "- title: Classes\n",
    "- toc: true\n",
    "- badges: false\n",
    "- image: /images/apcsa_units.png\n",
    "- type: ap\n",
    "- week: 15\n",
    "- comments: true"
   ]
  },
  {
   "cell_type": "markdown",
   "metadata": {},
   "source": [
    "## Classes Background\n",
    "> The 2019 FRQ #2 describes a problem of a Step Tracker.  The task is to write a StepTracker class, including the constructor and any required instance variables and\n",
    "methods. It specifies some of the methods as follows...\n",
    "- Constructor: StepTracker tr = new StepTracker(10000);\n",
    "- Get Methods: tr.activeDays(); tr.averageSteps(); \n",
    "- Set Methods: tr.addDailySteps(9000);\n",
    "\n",
    "> A student Teacher can assign almost any type of problem.  Perhaps Teaching group can think about object or objects they want for their project and see which student creates class to meet needs.  A POJO project within PBL is an excellent choice for this type of a problem.   Inheritance, Polymorphism, Generic data type would be advanced skills."
   ]
  }
 ],
 "metadata": {
  "kernelspec": {
   "display_name": "Python 3.10.6 64-bit",
   "language": "python",
   "name": "python3"
  },
  "language_info": {
   "name": "python",
   "version": "3.10.6"
  },
  "orig_nbformat": 4,
  "vscode": {
   "interpreter": {
    "hash": "aee8b7b246df8f9039afb4144a1f6fd8d2ca17a180786b69acc140d282b71a49"
   }
  }
 },
 "nbformat": 4,
 "nbformat_minor": 2
}
