{
 "cells": [
  {
   "cell_type": "markdown",
   "metadata": {},
   "source": [
    "# FRQ 3\n",
    ">  Relationship of FRQ 2 to Project Based learning.\n",
    "- title: FRQ3 - Array/ArrayList\n",
    "- toc: true\n",
    "- badges: false\n",
    "- image: /images/frqs.png\n",
    "- type: ap\n",
    "- week: 15\n",
    "- comments: true"
   ]
  },
  {
   "cell_type": "markdown",
   "metadata": {},
   "source": [
    "## Arrays/ArrayList Background\n",
    "> The 2019 FRQ #3 describes delimiters.  It is a good idea on this type of problem to be familiar converting things like string data to Arrays/ArrayLists.  In general, parsing data seems like it is a great skill to have for the AP Exams.\n",
    "- Understand ArrayList and methods\n",
    "- Perhaps concepts like Stack to reverse order"
   ]
  },
  {
   "cell_type": "code",
   "execution_count": null,
   "metadata": {
    "vscode": {
     "languageId": "javascript"
    }
   },
   "outputs": [],
   "source": [
    "// Takes tokens and converts to Reverse Polish Notation (RPN), this is one where the operator follows its operands.\n",
    "private void tokensToReversePolishNotation () {\n",
    "    // contains final list of tokens in RPN\n",
    "    this.reverse_polish = new ArrayList<>();\n",
    "\n",
    "    // stack is used to reorder for appropriate grouping and precedence\n",
    "    Stack tokenStack = new Stack();\n",
    "    for (String token : tokens) {\n",
    "        switch (token) {\n",
    "            // If left bracket push token on to stack\n",
    "            case \"(\":\n",
    "                tokenStack.push(token);\n",
    "                break;\n",
    "            case \")\":\n",
    "                while (tokenStack.peek() != null && !tokenStack.peek().equals(\"(\"))\n",
    "                {\n",
    "                    reverse_polish.add( (String)tokenStack.pop() );\n",
    "                }\n",
    "                tokenStack.pop();\n",
    "                break;\n",
    "            case \"+\":\n",
    "            case \"-\":\n",
    "            case \"*\":\n",
    "            case \"/\":\n",
    "            case \"%\":\n",
    "                // While stack\n",
    "                // not empty AND stack top element\n",
    "                // and is an operator\n",
    "                while (tokenStack.peek() != null && isOperator((String) tokenStack.peek()))\n",
    "                {\n",
    "                    if ( isPrecedent(token, (String) tokenStack.peek() )) {\n",
    "                        reverse_polish.add((String)tokenStack.pop());\n",
    "                        continue;\n",
    "                    }\n",
    "                    break;\n",
    "                }\n",
    "                // Push the new operator on the stack\n",
    "                tokenStack.push(token);\n",
    "                break;\n",
    "            default:    // Default should be a number, there could be test here\n",
    "                this.reverse_polish.add(token);\n",
    "        }\n",
    "    }\n",
    "    // Empty remaining tokens\n",
    "    while (tokenStack.peek() != null) {\n",
    "        reverse_polish.add((String)tokenStack.pop());\n",
    "    }\n",
    "\n",
    "}"
   ]
  }
 ],
 "metadata": {
  "kernelspec": {
   "display_name": "Python 3.10.6 64-bit",
   "language": "python",
   "name": "python3"
  },
  "language_info": {
   "name": "python",
   "version": "3.10.6"
  },
  "orig_nbformat": 4,
  "vscode": {
   "interpreter": {
    "hash": "aee8b7b246df8f9039afb4144a1f6fd8d2ca17a180786b69acc140d282b71a49"
   }
  }
 },
 "nbformat": 4,
 "nbformat_minor": 2
}
