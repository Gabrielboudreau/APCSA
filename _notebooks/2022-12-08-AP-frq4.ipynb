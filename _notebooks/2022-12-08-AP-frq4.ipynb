{
 "cells": [
  {
   "cell_type": "markdown",
   "metadata": {},
   "source": [
    "# FRQ 4\n",
    ">  Relationship of FRQ 4 to Project Based learning.\n",
    "- title: FRQ4 - 2D Array question\n",
    "- toc: true\n",
    "- badges: false\n",
    "- image: /images/frqs.png\n",
    "- type: ap\n",
    "- week: 15\n",
    "- comments: true"
   ]
  },
  {
   "cell_type": "markdown",
   "metadata": {},
   "source": [
    "## 2D Array Background\n",
    "> These are some key skills for 2D arrays.\n",
    "- Nested for loops, perhaps enhanced for loops.\n",
    "- Zero based counting.\n",
    "- Access of x and y coordinates.  Find properties at coordinates.\n",
    "    - sim.evaluateLight(0, 3); \n",
    "    - sim.evaluateLight(6, 0); \n",
    "    - sim.evaluateLight(4, 1); \n",
    "- Perform counts on values in columns or rows."
   ]
  }
 ],
 "metadata": {
  "kernelspec": {
   "display_name": "Python 3.10.6 64-bit",
   "language": "python",
   "name": "python3"
  },
  "language_info": {
   "name": "python",
   "version": "3.10.6"
  },
  "orig_nbformat": 4,
  "vscode": {
   "interpreter": {
    "hash": "aee8b7b246df8f9039afb4144a1f6fd8d2ca17a180786b69acc140d282b71a49"
   }
  }
 },
 "nbformat": 4,
 "nbformat_minor": 2
}
