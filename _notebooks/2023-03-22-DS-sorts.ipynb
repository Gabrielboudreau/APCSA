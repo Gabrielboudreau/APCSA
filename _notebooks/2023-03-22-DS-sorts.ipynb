{
 "cells": [
  {
   "attachments": {},
   "cell_type": "markdown",
   "metadata": {},
   "source": [
    "# Data Structures - Sorts\n",
    "> The object of the next two weeks is to use Classes, Queues, perform Sorts and anaylyze your algorithm(s).\n",
    "\n",
    "- title: Data Structures - Sorts\n",
    "- toc: true\n",
    "- categories: []\n",
    "- image: /images/collection.jpg\n",
    "- type: ap\n",
    "- week: 27"
   ]
  },
  {
   "attachments": {},
   "cell_type": "markdown",
   "metadata": {},
   "source": [
    "## Algo Rythmics\n",
    "> There is a craze in either Dancing or Algorithmic society to combine Coding and Dancing.  Plus, Computer Science needs a traditional activity!!!   You will be first gneraction to perform.  Here are some samples ...\n",
    "- [Bubble-sort with Hungarian (\"Csángó\") folk dance](https://www.youtube.com/watch?v=lyZQPjUT5B4)\n",
    "- [Multiple Sorts](https://www.i-programmer.info/programming/theory/3531-sorting-algorithms-as-dances.html)"
   ]
  }
 ],
 "metadata": {
  "kernelspec": {
   "display_name": "Java",
   "language": "java",
   "name": "java"
  },
  "language_info": {
   "name": "java",
   "version": "3.9.12"
  },
  "orig_nbformat": 4,
  "vscode": {
   "interpreter": {
    "hash": "07efb0c17bd1bebb54bd0de05e4d4c769f7a564dddf5b4c65148f358f9195f99"
   }
  }
 },
 "nbformat": 4,
 "nbformat_minor": 2
}
