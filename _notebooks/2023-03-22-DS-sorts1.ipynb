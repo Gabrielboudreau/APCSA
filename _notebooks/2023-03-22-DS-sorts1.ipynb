{
 "cells": [
  {
   "attachments": {},
   "cell_type": "markdown",
   "metadata": {},
   "source": [
    "# Sorts and Algo Rythmic part 1\n",
    "> Learn and perform Algo Rythmic interpretation of Classes, Queues, performing Sorts and BigO analysis on your algorithm(s).\n",
    "\n",
    "- title: Sorts and Algo Rythmic part 1\n",
    "- toc: true\n",
    "- categories: []\n",
    "- image: /images/collection.jpg\n",
    "- type: ap\n",
    "- week: 27"
   ]
  },
  {
   "attachments": {},
   "cell_type": "markdown",
   "metadata": {},
   "source": [
    "## Algo Rythmics Planning and Coding Week\n",
    "> There is a craze in either Dancing or Algo Rythmic societies to combine Coding and Dancing.  Plus, Computer Science at Del Norte needs a traditional activity (aka Physics Boat races)!!!   You will be first gneraction to perform.  Here are some samples ...\n",
    "- [Bubble-sort with Hungarian (\"Csángó\") folk dance](https://www.youtube.com/watch?v=lyZQPjUT5B4)\n",
    "- [Multiple Sorts](https://www.i-programmer.info/programming/theory/3531-sorting-algorithms-as-dances.html)\n",
    "\n",
    "> This is a two week mini project containing code and Algo Rythmic performance of the code and algorithm.  Have fun and be creative."
   ]
  },
  {
   "attachments": {},
   "cell_type": "markdown",
   "metadata": {},
   "source": [
    "## Hacks\n",
    "> CB wants you to work with Bubble Sort, Selection Sort, Insertion Sort and Merge Sort.  The material on these sorts is prevelant.\n",
    "- Build Jupyter Notebook(s) for Bubble Sort, Selection Sort, Insertion Sort and Merge Sort.\n",
    "- Build into Jupyter Notebooks Tester methods that run Sort implementations \n",
    "- Commit to GitHub Repository often, shows iterations on work"
   ]
  }
 ],
 "metadata": {
  "kernelspec": {
   "display_name": "Java",
   "language": "java",
   "name": "java"
  },
  "language_info": {
   "name": "java",
   "version": "3.9.12"
  },
  "orig_nbformat": 4,
  "vscode": {
   "interpreter": {
    "hash": "07efb0c17bd1bebb54bd0de05e4d4c769f7a564dddf5b4c65148f358f9195f99"
   }
  }
 },
 "nbformat": 4,
 "nbformat_minor": 2
}
